{
 "cells": [
  {
   "cell_type": "code",
   "execution_count": 3,
   "id": "0dc7ea28",
   "metadata": {
    "collapsed": true
   },
   "outputs": [
    {
     "name": "stdout",
     "output_type": "stream",
     "text": [
      "Collecting pandas\n",
      "  Downloading pandas-2.0.1-cp39-cp39-win_amd64.whl (10.7 MB)\n",
      "     ---------------------------------------- 10.7/10.7 MB 3.4 MB/s eta 0:00:00\n",
      "Requirement already satisfied: python-dateutil>=2.8.2 in c:\\users\\user\\appdata\\local\\programs\\python\\python39\\lib\\site-packages (from pandas) (2.8.2)\n",
      "Collecting pytz>=2020.1 (from pandas)\n",
      "  Downloading pytz-2023.3-py2.py3-none-any.whl (502 kB)\n",
      "     -------------------------------------- 502.3/502.3 kB 2.4 MB/s eta 0:00:00\n",
      "Collecting tzdata>=2022.1 (from pandas)\n",
      "  Downloading tzdata-2023.3-py2.py3-none-any.whl (341 kB)\n",
      "     -------------------------------------- 341.8/341.8 kB 2.4 MB/s eta 0:00:00\n",
      "Requirement already satisfied: numpy>=1.20.3 in c:\\users\\user\\appdata\\local\\programs\\python\\python39\\lib\\site-packages (from pandas) (1.24.2)\n",
      "Requirement already satisfied: six>=1.5 in c:\\users\\user\\appdata\\roaming\\python\\python39\\site-packages (from python-dateutil>=2.8.2->pandas) (1.16.0)\n",
      "Installing collected packages: pytz, tzdata, pandas\n",
      "Successfully installed pandas-2.0.1 pytz-2023.3 tzdata-2023.3\n"
     ]
    }
   ],
   "source": [
    "jupyter notebook --notebook-dir=D:/"
   ]
  },
  {
   "cell_type": "code",
   "execution_count": 36,
   "id": "7cedfe95",
   "metadata": {
    "collapsed": true
   },
   "outputs": [
    {
     "name": "stdout",
     "output_type": "stream",
     "text": [
      "Requirement already satisfied: opencv-python in c:\\users\\user\\appdata\\local\\programs\\python\\python39\\lib\\site-packages (4.7.0.72)\n",
      "Requirement already satisfied: numpy>=1.19.3 in c:\\users\\user\\appdata\\local\\programs\\python\\python39\\lib\\site-packages (from opencv-python) (1.24.2)\n"
     ]
    },
    {
     "name": "stderr",
     "output_type": "stream",
     "text": [
      "WARNING: You are using pip version 21.2.4; however, version 23.1.2 is available.\n",
      "You should consider upgrading via the 'c:\\users\\user\\appdata\\local\\programs\\python\\python39\\python.exe -m pip install --upgrade pip' command.\n"
     ]
    }
   ],
   "source": [
    "!pip install opencv-python"
   ]
  },
  {
   "cell_type": "code",
   "execution_count": null,
   "id": "a6b4bcac",
   "metadata": {},
   "outputs": [],
   "source": [
    "pip install google.colab"
   ]
  },
  {
   "cell_type": "code",
   "execution_count": 7,
   "id": "127372ce",
   "metadata": {},
   "outputs": [
    {
     "ename": "ModuleNotFoundError",
     "evalue": "No module named 'google'",
     "output_type": "error",
     "traceback": [
      "\u001b[1;31m---------------------------------------------------------------------------\u001b[0m",
      "\u001b[1;31mModuleNotFoundError\u001b[0m                       Traceback (most recent call last)",
      "\u001b[1;32m<ipython-input-7-4996ee3d8d09>\u001b[0m in \u001b[0;36m<module>\u001b[1;34m\u001b[0m\n\u001b[1;32m----> 1\u001b[1;33m \u001b[1;32mfrom\u001b[0m \u001b[0mgoogle\u001b[0m\u001b[1;33m.\u001b[0m\u001b[0mcolab\u001b[0m \u001b[1;32mimport\u001b[0m \u001b[0mdrive\u001b[0m\u001b[1;33m\u001b[0m\u001b[1;33m\u001b[0m\u001b[0m\n\u001b[0m\u001b[0;32m      2\u001b[0m \u001b[0mdrive\u001b[0m\u001b[1;33m.\u001b[0m\u001b[0mmount\u001b[0m\u001b[1;33m(\u001b[0m\u001b[1;34m'/content/gdrive'\u001b[0m\u001b[1;33m)\u001b[0m\u001b[1;33m\u001b[0m\u001b[1;33m\u001b[0m\u001b[0m\n",
      "\u001b[1;31mModuleNotFoundError\u001b[0m: No module named 'google'"
     ]
    }
   ],
   "source": [
    "from google.colab import drive\n",
    "drive.mount('/content/gdrive')"
   ]
  },
  {
   "cell_type": "code",
   "execution_count": 1,
   "id": "eb168c60",
   "metadata": {},
   "outputs": [],
   "source": [
    "import cv2\n",
    "import os\n",
    "import time\n",
    "import uuid"
   ]
  },
  {
   "cell_type": "code",
   "execution_count": 6,
   "id": "fa67c63e",
   "metadata": {},
   "outputs": [
    {
     "name": "stdout",
     "output_type": "stream",
     "text": [
      "Total jumlah gambar sebelum labeling : 163\n",
      "Total jumlah gambar setelah labeling : 326\n"
     ]
    }
   ],
   "source": [
    "IMAGES_PATH = 'Tensorflow/workspace/images/collectedimages'\n",
    "labels = ['A', 'U', 'I', 'E', 'O']\n",
    "number_imgs = 0\n",
    "\n",
    "for label in labels:\n",
    "    folder_path = os.path.join(IMAGES_PATH, label)\n",
    "    if os.path.exists(folder_path) and os.path.isdir(folder_path):\n",
    "        images = os.listdir(folder_path)\n",
    "        number_imgs += len(images)\n",
    "\n",
    "print(f\"Total jumlah gambar sebelum labeling : {int(number_imgs/2)}\")\n",
    "print(\"Total jumlah gambar setelah labeling :\", number_imgs)"
   ]
  },
  {
   "cell_type": "code",
   "execution_count": 13,
   "id": "f60231c7",
   "metadata": {
    "collapsed": true
   },
   "outputs": [
    {
     "name": "stdout",
     "output_type": "stream",
     "text": [
      "Collecting images for A \n"
     ]
    },
    {
     "ename": "KeyboardInterrupt",
     "evalue": "",
     "output_type": "error",
     "traceback": [
      "\u001b[1;31m---------------------------------------------------------------------------\u001b[0m",
      "\u001b[1;31mKeyboardInterrupt\u001b[0m                         Traceback (most recent call last)",
      "\u001b[1;32m<ipython-input-13-2936301d5759>\u001b[0m in \u001b[0;36m<module>\u001b[1;34m\u001b[0m\n\u001b[0;32m      3\u001b[0m     \u001b[0mcap\u001b[0m \u001b[1;33m=\u001b[0m \u001b[0mcv2\u001b[0m\u001b[1;33m.\u001b[0m\u001b[0mVideoCapture\u001b[0m\u001b[1;33m(\u001b[0m\u001b[1;36m0\u001b[0m\u001b[1;33m)\u001b[0m\u001b[1;33m\u001b[0m\u001b[1;33m\u001b[0m\u001b[0m\n\u001b[0;32m      4\u001b[0m     \u001b[0mprint\u001b[0m\u001b[1;33m(\u001b[0m\u001b[1;34m'Collecting images for {} '\u001b[0m \u001b[1;33m.\u001b[0m \u001b[0mformat\u001b[0m\u001b[1;33m(\u001b[0m\u001b[0mlabel\u001b[0m\u001b[1;33m)\u001b[0m\u001b[1;33m)\u001b[0m\u001b[1;33m\u001b[0m\u001b[1;33m\u001b[0m\u001b[0m\n\u001b[1;32m----> 5\u001b[1;33m     \u001b[0mtime\u001b[0m\u001b[1;33m.\u001b[0m\u001b[0msleep\u001b[0m\u001b[1;33m(\u001b[0m\u001b[1;36m5\u001b[0m\u001b[1;33m)\u001b[0m\u001b[1;33m\u001b[0m\u001b[1;33m\u001b[0m\u001b[0m\n\u001b[0m\u001b[0;32m      6\u001b[0m     \u001b[1;32mfor\u001b[0m \u001b[0mimgnum\u001b[0m \u001b[1;32min\u001b[0m \u001b[0mrange\u001b[0m\u001b[1;33m(\u001b[0m\u001b[0mnumber_imgs\u001b[0m\u001b[1;33m)\u001b[0m\u001b[1;33m:\u001b[0m\u001b[1;33m\u001b[0m\u001b[1;33m\u001b[0m\u001b[0m\n\u001b[0;32m      7\u001b[0m         \u001b[0mret\u001b[0m\u001b[1;33m,\u001b[0m \u001b[0mframe\u001b[0m \u001b[1;33m=\u001b[0m \u001b[0mcap\u001b[0m\u001b[1;33m.\u001b[0m\u001b[0mread\u001b[0m\u001b[1;33m(\u001b[0m\u001b[1;33m)\u001b[0m\u001b[1;33m\u001b[0m\u001b[1;33m\u001b[0m\u001b[0m\n",
      "\u001b[1;31mKeyboardInterrupt\u001b[0m: "
     ]
    }
   ],
   "source": [
    "for label in labels:\n",
    "    os.makedirs(os.path.join(IMAGES_PATH, label), exist_ok=True)\n",
    "    cap = cv2.VideoCapture(0)\n",
    "    print('Collecting images for {} ' . format(label))\n",
    "    time.sleep(5)\n",
    "    for imgnum in range(number_imgs):\n",
    "        ret, frame = cap.read()\n",
    "        imgname = os.path.join(IMAGES_PATH, label, label+'.'+'{}.jpg'.format(str(uuid.uuid1())))\n",
    "        cv2.imwrite(imgname, frame)\n",
    "        cv2.imshow('frame', frame)\n",
    "        time.sleep(2)\n",
    "        \n",
    "        if cv2.waitKey(1) and 0xFF == ord('q'):\n",
    "            break\n",
    "    cap.release()"
   ]
  },
  {
   "cell_type": "code",
   "execution_count": null,
   "id": "5bb32111",
   "metadata": {},
   "outputs": [],
   "source": [
    "# LABELLING"
   ]
  },
  {
   "cell_type": "code",
   "execution_count": 8,
   "id": "ddb37655",
   "metadata": {
    "collapsed": true
   },
   "outputs": [
    {
     "name": "stdout",
     "output_type": "stream",
     "text": [
      "Requirement already satisfied: pyqt5 in c:\\users\\user\\appdata\\local\\programs\\python\\python39\\lib\\site-packages (5.15.9)\n",
      "Requirement already satisfied: lxml in c:\\users\\user\\appdata\\local\\programs\\python\\python39\\lib\\site-packages (4.9.2)\n",
      "Requirement already satisfied: PyQt5-sip<13,>=12.11 in c:\\users\\user\\appdata\\local\\programs\\python\\python39\\lib\\site-packages (from pyqt5) (12.12.1)\n",
      "Requirement already satisfied: PyQt5-Qt5>=5.15.2 in c:\\users\\user\\appdata\\local\\programs\\python\\python39\\lib\\site-packages (from pyqt5) (5.15.2)\n"
     ]
    }
   ],
   "source": [
    "!pip install --upgrade pyqt5 lxml"
   ]
  },
  {
   "cell_type": "code",
   "execution_count": 9,
   "id": "a82c15b2",
   "metadata": {
    "collapsed": true
   },
   "outputs": [
    {
     "name": "stdout",
     "output_type": "stream",
     "text": [
      "Package                  Version\n",
      "------------------------ --------\n",
      "anyio                    3.6.2\n",
      "argon2-cffi              21.3.0\n",
      "argon2-cffi-bindings     21.2.0\n",
      "arrow                    1.2.3\n",
      "attrs                    23.1.0\n",
      "backcall                 0.2.0\n",
      "beautifulsoup4           4.12.2\n",
      "bleach                   6.0.0\n",
      "cffi                     1.15.1\n",
      "colorama                 0.4.4\n",
      "decorator                5.0.9\n",
      "defusedxml               0.7.1\n",
      "fastjsonschema           2.17.1\n",
      "fqdn                     1.5.1\n",
      "idna                     3.4\n",
      "importlib-metadata       6.6.0\n",
      "ipykernel                5.5.5\n",
      "ipython                  7.24.1\n",
      "ipython-genutils         0.2.0\n",
      "isoduration              20.11.0\n",
      "jedi                     0.18.0\n",
      "Jinja2                   3.1.2\n",
      "jsonpointer              2.3\n",
      "jsonschema               4.17.3\n",
      "jupyter_client           8.2.0\n",
      "jupyter_core             5.3.0\n",
      "jupyter-events           0.6.3\n",
      "jupyter_server           2.5.0\n",
      "jupyter_server_terminals 0.4.4\n",
      "jupyterlab-pygments      0.2.2\n",
      "lxml                     4.9.2\n",
      "MarkupSafe               2.1.2\n",
      "matplotlib-inline        0.1.2\n",
      "mistune                  2.0.5\n",
      "nbclassic                1.0.0\n",
      "nbclient                 0.7.4\n",
      "nbconvert                7.4.0\n",
      "nbformat                 5.8.0\n",
      "nest-asyncio             1.5.6\n",
      "notebook                 6.5.4\n",
      "notebook_shim            0.2.3\n",
      "numpy                    1.24.2\n",
      "opencv-python            4.7.0.72\n",
      "packaging                23.1\n",
      "pandocfilters            1.5.0\n",
      "parso                    0.8.2\n",
      "pickleshare              0.7.5\n",
      "pip                      23.1.2\n",
      "platformdirs             3.5.1\n",
      "prometheus-client        0.16.0\n",
      "prompt-toolkit           3.0.18\n",
      "pycodestyle              2.7.0\n",
      "pycparser                2.21\n",
      "Pygments                 2.9.0\n",
      "PyQt5                    5.15.9\n",
      "PyQt5-Qt5                5.15.2\n",
      "PyQt5-sip                12.12.1\n",
      "pyrsistent               0.19.3\n",
      "python-dateutil          2.8.2\n",
      "python-json-logger       2.0.7\n",
      "pywin32                  301\n",
      "pywinpty                 2.0.10\n",
      "PyYAML                   6.0\n",
      "pyzmq                    25.0.2\n",
      "rfc3339-validator        0.1.4\n",
      "rfc3986-validator        0.1.1\n",
      "Send2Trash               1.8.2\n",
      "setuptools               49.2.1\n",
      "six                      1.16.0\n",
      "sniffio                  1.3.0\n",
      "soupsieve                2.4.1\n",
      "terminado                0.17.1\n",
      "tinycss2                 1.2.1\n",
      "tornado                  6.3.2\n",
      "traitlets                5.9.0\n",
      "uri-template             1.2.0\n",
      "wcwidth                  0.2.5\n",
      "webcolors                1.13\n",
      "webencodings             0.5.1\n",
      "websocket-client         1.5.2\n",
      "zipp                     3.15.0\n"
     ]
    }
   ],
   "source": [
    "!pip list"
   ]
  },
  {
   "cell_type": "code",
   "execution_count": 2,
   "id": "81f0dea7",
   "metadata": {
    "collapsed": true
   },
   "outputs": [
    {
     "name": "stdout",
     "output_type": "stream",
     "text": [
      "Requirement already satisfied: pip in c:\\users\\user\\appdata\\local\\programs\\python\\python39\\lib\\site-packages (21.2.4)\n",
      "Collecting pip\n",
      "  Downloading pip-23.1.2-py3-none-any.whl (2.1 MB)\n",
      "Installing collected packages: pip\n",
      "  Attempting uninstall: pip\n",
      "    Found existing installation: pip 21.2.4\n",
      "    Uninstalling pip-21.2.4:\n",
      "      Successfully uninstalled pip-21.2.4\n",
      "Successfully installed pip-23.1.2\n",
      "Note: you may need to restart the kernel to use updated packages.\n"
     ]
    }
   ],
   "source": [
    "pip install --upgrade pip"
   ]
  },
  {
   "cell_type": "code",
   "execution_count": 19,
   "id": "9d0c17bd",
   "metadata": {},
   "outputs": [],
   "source": [
    "LABELIMG_PATH = os.path.join('Tensorflow', 'labelimg')"
   ]
  },
  {
   "cell_type": "code",
   "execution_count": 11,
   "id": "fb09b94a",
   "metadata": {},
   "outputs": [
    {
     "name": "stderr",
     "output_type": "stream",
     "text": [
      "Cloning into 'Tensorflow\\labelImg'...\n"
     ]
    }
   ],
   "source": [
    "if not os.path.exists(LABELIMG_PATH):\n",
    "    !mkdir {LABELIMG_PATH}\n",
    "    !git clone https://github.com/tzutalin/labelImg {LABELIMG_PATH}"
   ]
  },
  {
   "cell_type": "code",
   "execution_count": 20,
   "id": "8967d84e",
   "metadata": {},
   "outputs": [
    {
     "data": {
      "text/plain": [
       "'Tensorflow\\\\labelimg'"
      ]
     },
     "execution_count": 20,
     "metadata": {},
     "output_type": "execute_result"
    }
   ],
   "source": [
    "LABELIMG_PATH"
   ]
  },
  {
   "cell_type": "code",
   "execution_count": 21,
   "id": "50e5e0f3",
   "metadata": {
    "scrolled": true
   },
   "outputs": [],
   "source": [
    "if os.name == 'posix':\n",
    "    !make qt5py3\n",
    "if os.name =='nt':\n",
    "    !cd {LABELIMG_PATH} && pyrcc5 -o libs/resources.py resources.qrc"
   ]
  },
  {
   "cell_type": "code",
   "execution_count": 22,
   "id": "2938c61e",
   "metadata": {
    "collapsed": true
   },
   "outputs": [
    {
     "name": "stdout",
     "output_type": "stream",
     "text": [
      "Cancel creation.\n",
      "Image:C:\\Users\\User\\Downloads\\RealTimeObjectDetection\\Tensorflow\\workspace\\images\\collectedimages\\A\\442E3E0B-B921-42BD-8772-0DB055EF6D67.JPG -> Annotation:C:/Users/User/Downloads/RealTimeObjectDetection/Tensorflow/workspace/images/collectedimages/A\\442E3E0B-B921-42BD-8772-0DB055EF6D67.xml\n",
      "Image:C:\\Users\\User\\Downloads\\RealTimeObjectDetection\\Tensorflow\\workspace\\images\\collectedimages\\A\\4345CF4A-D5DE-426C-86F2-EC830C4DF100.JPG -> Annotation:C:/Users/User/Downloads/RealTimeObjectDetection/Tensorflow/workspace/images/collectedimages/A\\4345CF4A-D5DE-426C-86F2-EC830C4DF100.xml\n",
      "Image:C:\\Users\\User\\Downloads\\RealTimeObjectDetection\\Tensorflow\\workspace\\images\\collectedimages\\A\\20230520_115253.jpg -> Annotation:C:/Users/User/Downloads/RealTimeObjectDetection/Tensorflow/workspace/images/collectedimages/A\\20230520_115253.xml\n",
      "ESC press\n",
      "Cancel creation.\n",
      "ESC press\n",
      "Cancel creation.\n",
      "Image:C:\\Users\\User\\Downloads\\RealTimeObjectDetection\\Tensorflow\\workspace\\images\\collectedimages\\A\\20230520_115300.jpg -> Annotation:C:/Users/User/Downloads/RealTimeObjectDetection/Tensorflow/workspace/images/collectedimages/A\\20230520_115300.xml\n",
      "Image:C:\\Users\\User\\Downloads\\RealTimeObjectDetection\\Tensorflow\\workspace\\images\\collectedimages\\A\\20230520_115318.jpg -> Annotation:C:/Users/User/Downloads/RealTimeObjectDetection/Tensorflow/workspace/images/collectedimages/A\\20230520_115318.xml\n",
      "Image:C:\\Users\\User\\Downloads\\RealTimeObjectDetection\\Tensorflow\\workspace\\images\\collectedimages\\A\\20230520_115323.jpg -> Annotation:C:/Users/User/Downloads/RealTimeObjectDetection/Tensorflow/workspace/images/collectedimages/A\\20230520_115323.xml\n",
      "Image:C:\\Users\\User\\Downloads\\RealTimeObjectDetection\\Tensorflow\\workspace\\images\\collectedimages\\A\\20230520_183658.jpg -> Annotation:C:/Users/User/Downloads/RealTimeObjectDetection/Tensorflow/workspace/images/collectedimages/A\\20230520_183658.xml\n",
      "Image:C:\\Users\\User\\Downloads\\RealTimeObjectDetection\\Tensorflow\\workspace\\images\\collectedimages\\A\\20230520_183707.jpg -> Annotation:C:/Users/User/Downloads/RealTimeObjectDetection/Tensorflow/workspace/images/collectedimages/A\\20230520_183707.xml\n",
      "Image:C:\\Users\\User\\Downloads\\RealTimeObjectDetection\\Tensorflow\\workspace\\images\\collectedimages\\A\\20230520_183713.jpg -> Annotation:C:/Users/User/Downloads/RealTimeObjectDetection/Tensorflow/workspace/images/collectedimages/A\\20230520_183713.xml\n",
      "Image:C:\\Users\\User\\Downloads\\RealTimeObjectDetection\\Tensorflow\\workspace\\images\\collectedimages\\A\\20230520_183721.jpg -> Annotation:C:/Users/User/Downloads/RealTimeObjectDetection/Tensorflow/workspace/images/collectedimages/A\\20230520_183721.xml\n",
      "Image:C:\\Users\\User\\Downloads\\RealTimeObjectDetection\\Tensorflow\\workspace\\images\\collectedimages\\A\\20230520_183730.jpg -> Annotation:C:/Users/User/Downloads/RealTimeObjectDetection/Tensorflow/workspace/images/collectedimages/A\\20230520_183730.xml\n",
      "Image:C:\\Users\\User\\Downloads\\RealTimeObjectDetection\\Tensorflow\\workspace\\images\\collectedimages\\A\\E4127316-2AFE-45D1-9F08-969077E8FF37.JPG -> Annotation:C:/Users/User/Downloads/RealTimeObjectDetection/Tensorflow/workspace/images/collectedimages/A\\E4127316-2AFE-45D1-9F08-969077E8FF37.xml\n",
      "Cancel creation.\n",
      "Image:C:\\Users\\User\\Downloads\\RealTimeObjectDetection\\Tensorflow\\workspace\\images\\collectedimages\\A\\IMG_20151205_093830.jpg -> Annotation:C:/Users/User/Downloads/RealTimeObjectDetection/Tensorflow/workspace/images/collectedimages/A\\IMG_20151205_093830.xml\n",
      "Image:C:\\Users\\User\\Downloads\\RealTimeObjectDetection\\Tensorflow\\workspace\\images\\collectedimages\\A\\IMG_20151205_093836.jpg -> Annotation:C:/Users/User/Downloads/RealTimeObjectDetection/Tensorflow/workspace/images/collectedimages/A\\IMG_20151205_093836.xml\n",
      "Image:C:\\Users\\User\\Downloads\\RealTimeObjectDetection\\Tensorflow\\workspace\\images\\collectedimages\\A\\IMG_20151205_093846.jpg -> Annotation:C:/Users/User/Downloads/RealTimeObjectDetection/Tensorflow/workspace/images/collectedimages/A\\IMG_20151205_093846.xml\n",
      "Image:C:\\Users\\User\\Downloads\\RealTimeObjectDetection\\Tensorflow\\workspace\\images\\collectedimages\\A\\IMG_20151205_093851.jpg -> Annotation:C:/Users/User/Downloads/RealTimeObjectDetection/Tensorflow/workspace/images/collectedimages/A\\IMG_20151205_093851.xml\n",
      "Image:C:\\Users\\User\\Downloads\\RealTimeObjectDetection\\Tensorflow\\workspace\\images\\collectedimages\\A\\IMG_20230521_101229.jpg -> Annotation:C:/Users/User/Downloads/RealTimeObjectDetection/Tensorflow/workspace/images/collectedimages/A\\IMG_20230521_101229.xml\n",
      "Image:C:\\Users\\User\\Downloads\\RealTimeObjectDetection\\Tensorflow\\workspace\\images\\collectedimages\\A\\IMG_20230521_101232.jpg -> Annotation:C:/Users/User/Downloads/RealTimeObjectDetection/Tensorflow/workspace/images/collectedimages/A\\IMG_20230521_101232.xml\n",
      "Image:C:\\Users\\User\\Downloads\\RealTimeObjectDetection\\Tensorflow\\workspace\\images\\collectedimages\\A\\IMG_20230521_101234.jpg -> Annotation:C:/Users/User/Downloads/RealTimeObjectDetection/Tensorflow/workspace/images/collectedimages/A\\IMG_20230521_101234.xml\n",
      "Cancel creation.\n",
      "Image:C:\\Users\\User\\Downloads\\RealTimeObjectDetection\\Tensorflow\\workspace\\images\\collectedimages\\A\\IMG_20230521_101240.jpg -> Annotation:C:/Users/User/Downloads/RealTimeObjectDetection/Tensorflow/workspace/images/collectedimages/A\\IMG_20230521_101240.xml\n",
      "Image:C:\\Users\\User\\Downloads\\RealTimeObjectDetection\\Tensorflow\\workspace\\images\\collectedimages\\A\\IMG_20230522_172027.jpg -> Annotation:C:/Users/User/Downloads/RealTimeObjectDetection/Tensorflow/workspace/images/collectedimages/A\\IMG_20230522_172027.xml\n",
      "Image:C:\\Users\\User\\Downloads\\RealTimeObjectDetection\\Tensorflow\\workspace\\images\\collectedimages\\A\\IMG_20230522_172030.jpg -> Annotation:C:/Users/User/Downloads/RealTimeObjectDetection/Tensorflow/workspace/images/collectedimages/A\\IMG_20230522_172030.xml\n",
      "Image:C:\\Users\\User\\Downloads\\RealTimeObjectDetection\\Tensorflow\\workspace\\images\\collectedimages\\A\\IMG_20230522_172034.jpg -> Annotation:C:/Users/User/Downloads/RealTimeObjectDetection/Tensorflow/workspace/images/collectedimages/A\\IMG_20230522_172034.xml\n",
      "Image:C:\\Users\\User\\Downloads\\RealTimeObjectDetection\\Tensorflow\\workspace\\images\\collectedimages\\A\\IMG_20230522_172038.jpg -> Annotation:C:/Users/User/Downloads/RealTimeObjectDetection/Tensorflow/workspace/images/collectedimages/A\\IMG_20230522_172038.xml\n",
      "Image:C:\\Users\\User\\Downloads\\RealTimeObjectDetection\\Tensorflow\\workspace\\images\\collectedimages\\A\\IMG_20230523_173545.jpg -> Annotation:C:/Users/User/Downloads/RealTimeObjectDetection/Tensorflow/workspace/images/collectedimages/A\\IMG_20230523_173545.xml\n",
      "Image:C:\\Users\\User\\Downloads\\RealTimeObjectDetection\\Tensorflow\\workspace\\images\\collectedimages\\A\\IMG_20230523_173547.jpg -> Annotation:C:/Users/User/Downloads/RealTimeObjectDetection/Tensorflow/workspace/images/collectedimages/A\\IMG_20230523_173547.xml\n",
      "Image:C:\\Users\\User\\Downloads\\RealTimeObjectDetection\\Tensorflow\\workspace\\images\\collectedimages\\A\\IMG_20230523_173550.jpg -> Annotation:C:/Users/User/Downloads/RealTimeObjectDetection/Tensorflow/workspace/images/collectedimages/A\\IMG_20230523_173550.xml\n",
      "Image:C:\\Users\\User\\Downloads\\RealTimeObjectDetection\\Tensorflow\\workspace\\images\\collectedimages\\A\\IMG_20230523_173552.jpg -> Annotation:C:/Users/User/Downloads/RealTimeObjectDetection/Tensorflow/workspace/images/collectedimages/A\\IMG_20230523_173552.xml\n",
      "Image:C:\\Users\\User\\Downloads\\RealTimeObjectDetection\\Tensorflow\\workspace\\images\\collectedimages\\A\\WhatsApp Image 2023-05-21 at 22.11.48.jpeg -> Annotation:C:/Users/User/Downloads/RealTimeObjectDetection/Tensorflow/workspace/images/collectedimages/A\\WhatsApp Image 2023-05-21 at 22.11.48.xml\n",
      "Image:C:\\Users\\User\\Downloads\\RealTimeObjectDetection\\Tensorflow\\workspace\\images\\collectedimages\\A\\WhatsApp Image 2023-05-21 at 22.12.12.jpeg -> Annotation:C:/Users/User/Downloads/RealTimeObjectDetection/Tensorflow/workspace/images/collectedimages/A\\WhatsApp Image 2023-05-21 at 22.12.12.xml\n",
      "Image:C:\\Users\\User\\Downloads\\RealTimeObjectDetection\\Tensorflow\\workspace\\images\\collectedimages\\E\\2FD5F1C7-6996-4F0B-8D52-687648CBC510.JPG -> Annotation:C:/Users/User/Downloads/RealTimeObjectDetection/Tensorflow/workspace/images/collectedimages/E\\2FD5F1C7-6996-4F0B-8D52-687648CBC510.xml\n",
      "Cancel creation.\n",
      "Image:C:\\Users\\User\\Downloads\\RealTimeObjectDetection\\Tensorflow\\workspace\\images\\collectedimages\\E\\3E95023D-3C5A-4E9B-9E25-5875E975C366.JPG -> Annotation:C:/Users/User/Downloads/RealTimeObjectDetection/Tensorflow/workspace/images/collectedimages/E\\3E95023D-3C5A-4E9B-9E25-5875E975C366.xml\n",
      "Image:C:\\Users\\User\\Downloads\\RealTimeObjectDetection\\Tensorflow\\workspace\\images\\collectedimages\\E\\19AC6BCE-9764-42F2-89D6-D8DE42632492.JPG -> Annotation:C:/Users/User/Downloads/RealTimeObjectDetection/Tensorflow/workspace/images/collectedimages/E\\19AC6BCE-9764-42F2-89D6-D8DE42632492.xml\n",
      "Image:C:\\Users\\User\\Downloads\\RealTimeObjectDetection\\Tensorflow\\workspace\\images\\collectedimages\\E\\20230516_184830.jpg -> Annotation:C:/Users/User/Downloads/RealTimeObjectDetection/Tensorflow/workspace/images/collectedimages/E\\20230516_184830.xml\n",
      "Image:C:\\Users\\User\\Downloads\\RealTimeObjectDetection\\Tensorflow\\workspace\\images\\collectedimages\\E\\20230520_115526.jpg -> Annotation:C:/Users/User/Downloads/RealTimeObjectDetection/Tensorflow/workspace/images/collectedimages/E\\20230520_115526.xml\n",
      "Image:C:\\Users\\User\\Downloads\\RealTimeObjectDetection\\Tensorflow\\workspace\\images\\collectedimages\\E\\20230520_115530.jpg -> Annotation:C:/Users/User/Downloads/RealTimeObjectDetection/Tensorflow/workspace/images/collectedimages/E\\20230520_115530.xml\n",
      "Image:C:\\Users\\User\\Downloads\\RealTimeObjectDetection\\Tensorflow\\workspace\\images\\collectedimages\\E\\20230520_115533.jpg -> Annotation:C:/Users/User/Downloads/RealTimeObjectDetection/Tensorflow/workspace/images/collectedimages/E\\20230520_115533.xml\n",
      "Cancel creation.\n",
      "Image:C:\\Users\\User\\Downloads\\RealTimeObjectDetection\\Tensorflow\\workspace\\images\\collectedimages\\E\\20230520_115537.jpg -> Annotation:C:/Users/User/Downloads/RealTimeObjectDetection/Tensorflow/workspace/images/collectedimages/E\\20230520_115537.xml\n",
      "Image:C:\\Users\\User\\Downloads\\RealTimeObjectDetection\\Tensorflow\\workspace\\images\\collectedimages\\E\\20230520_183920.jpg -> Annotation:C:/Users/User/Downloads/RealTimeObjectDetection/Tensorflow/workspace/images/collectedimages/E\\20230520_183920.xml\n",
      "Image:C:\\Users\\User\\Downloads\\RealTimeObjectDetection\\Tensorflow\\workspace\\images\\collectedimages\\E\\20230520_183926.jpg -> Annotation:C:/Users/User/Downloads/RealTimeObjectDetection/Tensorflow/workspace/images/collectedimages/E\\20230520_183926.xml\n",
      "Image:C:\\Users\\User\\Downloads\\RealTimeObjectDetection\\Tensorflow\\workspace\\images\\collectedimages\\E\\20230520_183929.jpg -> Annotation:C:/Users/User/Downloads/RealTimeObjectDetection/Tensorflow/workspace/images/collectedimages/E\\20230520_183929.xml\n",
      "Image:C:\\Users\\User\\Downloads\\RealTimeObjectDetection\\Tensorflow\\workspace\\images\\collectedimages\\E\\20230520_183937.jpg -> Annotation:C:/Users/User/Downloads/RealTimeObjectDetection/Tensorflow/workspace/images/collectedimages/E\\20230520_183937.xml\n",
      "Image:C:\\Users\\User\\Downloads\\RealTimeObjectDetection\\Tensorflow\\workspace\\images\\collectedimages\\E\\IMG_20151205_093944.jpg -> Annotation:C:/Users/User/Downloads/RealTimeObjectDetection/Tensorflow/workspace/images/collectedimages/E\\IMG_20151205_093944.xml\n",
      "Image:C:\\Users\\User\\Downloads\\RealTimeObjectDetection\\Tensorflow\\workspace\\images\\collectedimages\\E\\IMG_20151205_093949.jpg -> Annotation:C:/Users/User/Downloads/RealTimeObjectDetection/Tensorflow/workspace/images/collectedimages/E\\IMG_20151205_093949.xml\n",
      "Image:C:\\Users\\User\\Downloads\\RealTimeObjectDetection\\Tensorflow\\workspace\\images\\collectedimages\\E\\IMG_20151205_094000.jpg -> Annotation:C:/Users/User/Downloads/RealTimeObjectDetection/Tensorflow/workspace/images/collectedimages/E\\IMG_20151205_094000.xml\n",
      "Image:C:\\Users\\User\\Downloads\\RealTimeObjectDetection\\Tensorflow\\workspace\\images\\collectedimages\\E\\IMG_20230521_101313.jpg -> Annotation:C:/Users/User/Downloads/RealTimeObjectDetection/Tensorflow/workspace/images/collectedimages/E\\IMG_20230521_101313.xml\n",
      "Image:C:\\Users\\User\\Downloads\\RealTimeObjectDetection\\Tensorflow\\workspace\\images\\collectedimages\\E\\IMG_20230521_101316.jpg -> Annotation:C:/Users/User/Downloads/RealTimeObjectDetection/Tensorflow/workspace/images/collectedimages/E\\IMG_20230521_101316.xml\n",
      "Image:C:\\Users\\User\\Downloads\\RealTimeObjectDetection\\Tensorflow\\workspace\\images\\collectedimages\\E\\IMG_20230521_101318.jpg -> Annotation:C:/Users/User/Downloads/RealTimeObjectDetection/Tensorflow/workspace/images/collectedimages/E\\IMG_20230521_101318.xml\n",
      "Image:C:\\Users\\User\\Downloads\\RealTimeObjectDetection\\Tensorflow\\workspace\\images\\collectedimages\\E\\IMG_20230521_101326.jpg -> Annotation:C:/Users/User/Downloads/RealTimeObjectDetection/Tensorflow/workspace/images/collectedimages/E\\IMG_20230521_101326.xml\n",
      "Image:C:\\Users\\User\\Downloads\\RealTimeObjectDetection\\Tensorflow\\workspace\\images\\collectedimages\\E\\IMG_20230521_101328.jpg -> Annotation:C:/Users/User/Downloads/RealTimeObjectDetection/Tensorflow/workspace/images/collectedimages/E\\IMG_20230521_101328.xml\n",
      "Image:C:\\Users\\User\\Downloads\\RealTimeObjectDetection\\Tensorflow\\workspace\\images\\collectedimages\\E\\IMG_20230521_101330.jpg -> Annotation:C:/Users/User/Downloads/RealTimeObjectDetection/Tensorflow/workspace/images/collectedimages/E\\IMG_20230521_101330.xml\n",
      "Image:C:\\Users\\User\\Downloads\\RealTimeObjectDetection\\Tensorflow\\workspace\\images\\collectedimages\\E\\IMG_20230521_101333.jpg -> Annotation:C:/Users/User/Downloads/RealTimeObjectDetection/Tensorflow/workspace/images/collectedimages/E\\IMG_20230521_101333.xml\n",
      "Image:C:\\Users\\User\\Downloads\\RealTimeObjectDetection\\Tensorflow\\workspace\\images\\collectedimages\\E\\IMG_20230522_172124.jpg -> Annotation:C:/Users/User/Downloads/RealTimeObjectDetection/Tensorflow/workspace/images/collectedimages/E\\IMG_20230522_172124.xml\n",
      "Image:C:\\Users\\User\\Downloads\\RealTimeObjectDetection\\Tensorflow\\workspace\\images\\collectedimages\\E\\IMG_20230522_172126.jpg -> Annotation:C:/Users/User/Downloads/RealTimeObjectDetection/Tensorflow/workspace/images/collectedimages/E\\IMG_20230522_172126.xml\n",
      "Image:C:\\Users\\User\\Downloads\\RealTimeObjectDetection\\Tensorflow\\workspace\\images\\collectedimages\\E\\IMG_20230522_172129.jpg -> Annotation:C:/Users/User/Downloads/RealTimeObjectDetection/Tensorflow/workspace/images/collectedimages/E\\IMG_20230522_172129.xml\n",
      "Image:C:\\Users\\User\\Downloads\\RealTimeObjectDetection\\Tensorflow\\workspace\\images\\collectedimages\\E\\IMG_20230522_172133.jpg -> Annotation:C:/Users/User/Downloads/RealTimeObjectDetection/Tensorflow/workspace/images/collectedimages/E\\IMG_20230522_172133.xml\n",
      "Image:C:\\Users\\User\\Downloads\\RealTimeObjectDetection\\Tensorflow\\workspace\\images\\collectedimages\\E\\IMG_20230523_173616.jpg -> Annotation:C:/Users/User/Downloads/RealTimeObjectDetection/Tensorflow/workspace/images/collectedimages/E\\IMG_20230523_173616.xml\n",
      "Image:C:\\Users\\User\\Downloads\\RealTimeObjectDetection\\Tensorflow\\workspace\\images\\collectedimages\\E\\IMG_20230523_173619.jpg -> Annotation:C:/Users/User/Downloads/RealTimeObjectDetection/Tensorflow/workspace/images/collectedimages/E\\IMG_20230523_173619.xml\n",
      "Image:C:\\Users\\User\\Downloads\\RealTimeObjectDetection\\Tensorflow\\workspace\\images\\collectedimages\\E\\IMG_20230523_173621.jpg -> Annotation:C:/Users/User/Downloads/RealTimeObjectDetection/Tensorflow/workspace/images/collectedimages/E\\IMG_20230523_173621.xml\n",
      "Image:C:\\Users\\User\\Downloads\\RealTimeObjectDetection\\Tensorflow\\workspace\\images\\collectedimages\\E\\IMG_20230523_173623.jpg -> Annotation:C:/Users/User/Downloads/RealTimeObjectDetection/Tensorflow/workspace/images/collectedimages/E\\IMG_20230523_173623.xml\n",
      "Image:C:\\Users\\User\\Downloads\\RealTimeObjectDetection\\Tensorflow\\workspace\\images\\collectedimages\\E\\WhatsApp Image 2023-05-21 at 22.12.42.jpeg -> Annotation:C:/Users/User/Downloads/RealTimeObjectDetection/Tensorflow/workspace/images/collectedimages/E\\WhatsApp Image 2023-05-21 at 22.12.42.xml\n",
      "Image:C:\\Users\\User\\Downloads\\RealTimeObjectDetection\\Tensorflow\\workspace\\images\\collectedimages\\E\\WhatsApp Image 2023-05-21 at 22.12.48.jpeg -> Annotation:C:/Users/User/Downloads/RealTimeObjectDetection/Tensorflow/workspace/images/collectedimages/E\\WhatsApp Image 2023-05-21 at 22.12.48.xml\n",
      "Image:C:\\Users\\User\\Downloads\\RealTimeObjectDetection\\Tensorflow\\workspace\\images\\collectedimages\\I\\6D156797-CE05-420B-BC2D-39C9C25C9E19.JPG -> Annotation:C:/Users/User/Downloads/RealTimeObjectDetection/Tensorflow/workspace/images/collectedimages/I\\6D156797-CE05-420B-BC2D-39C9C25C9E19.xml\n",
      "Image:C:\\Users\\User\\Downloads\\RealTimeObjectDetection\\Tensorflow\\workspace\\images\\collectedimages\\I\\20230516_184919.jpg -> Annotation:C:/Users/User/Downloads/RealTimeObjectDetection/Tensorflow/workspace/images/collectedimages/I\\20230516_184919.xml\n",
      "Image:C:\\Users\\User\\Downloads\\RealTimeObjectDetection\\Tensorflow\\workspace\\images\\collectedimages\\I\\20230520_115407.jpg -> Annotation:C:/Users/User/Downloads/RealTimeObjectDetection/Tensorflow/workspace/images/collectedimages/I\\20230520_115407.xml\n",
      "Image:C:\\Users\\User\\Downloads\\RealTimeObjectDetection\\Tensorflow\\workspace\\images\\collectedimages\\I\\20230520_115411.jpg -> Annotation:C:/Users/User/Downloads/RealTimeObjectDetection/Tensorflow/workspace/images/collectedimages/I\\20230520_115411.xml\n",
      "Image:C:\\Users\\User\\Downloads\\RealTimeObjectDetection\\Tensorflow\\workspace\\images\\collectedimages\\I\\20230520_115416.jpg -> Annotation:C:/Users/User/Downloads/RealTimeObjectDetection/Tensorflow/workspace/images/collectedimages/I\\20230520_115416.xml\n",
      "Image:C:\\Users\\User\\Downloads\\RealTimeObjectDetection\\Tensorflow\\workspace\\images\\collectedimages\\I\\20230520_115420.jpg -> Annotation:C:/Users/User/Downloads/RealTimeObjectDetection/Tensorflow/workspace/images/collectedimages/I\\20230520_115420.xml\n",
      "Image:C:\\Users\\User\\Downloads\\RealTimeObjectDetection\\Tensorflow\\workspace\\images\\collectedimages\\I\\20230520_115424.jpg -> Annotation:C:/Users/User/Downloads/RealTimeObjectDetection/Tensorflow/workspace/images/collectedimages/I\\20230520_115424.xml\n",
      "Image:C:\\Users\\User\\Downloads\\RealTimeObjectDetection\\Tensorflow\\workspace\\images\\collectedimages\\I\\20230520_183755.jpg -> Annotation:C:/Users/User/Downloads/RealTimeObjectDetection/Tensorflow/workspace/images/collectedimages/I\\20230520_183755.xml\n",
      "Image:C:\\Users\\User\\Downloads\\RealTimeObjectDetection\\Tensorflow\\workspace\\images\\collectedimages\\I\\20230520_183801.jpg -> Annotation:C:/Users/User/Downloads/RealTimeObjectDetection/Tensorflow/workspace/images/collectedimages/I\\20230520_183801.xml\n",
      "Image:C:\\Users\\User\\Downloads\\RealTimeObjectDetection\\Tensorflow\\workspace\\images\\collectedimages\\I\\20230520_183806.jpg -> Annotation:C:/Users/User/Downloads/RealTimeObjectDetection/Tensorflow/workspace/images/collectedimages/I\\20230520_183806.xml\n",
      "Image:C:\\Users\\User\\Downloads\\RealTimeObjectDetection\\Tensorflow\\workspace\\images\\collectedimages\\I\\AA89616D-93B5-4626-98ED-B3A8F56FFD4A.JPG -> Annotation:C:/Users/User/Downloads/RealTimeObjectDetection/Tensorflow/workspace/images/collectedimages/I\\AA89616D-93B5-4626-98ED-B3A8F56FFD4A.xml\n",
      "Image:C:\\Users\\User\\Downloads\\RealTimeObjectDetection\\Tensorflow\\workspace\\images\\collectedimages\\I\\DB46ED83-A205-45FA-AD99-1CC0ED18AC26.JPG -> Annotation:C:/Users/User/Downloads/RealTimeObjectDetection/Tensorflow/workspace/images/collectedimages/I\\DB46ED83-A205-45FA-AD99-1CC0ED18AC26.xml\n",
      "Image:C:\\Users\\User\\Downloads\\RealTimeObjectDetection\\Tensorflow\\workspace\\images\\collectedimages\\I\\IMG-20230521-WA0017.jpg -> Annotation:C:/Users/User/Downloads/RealTimeObjectDetection/Tensorflow/workspace/images/collectedimages/I\\IMG-20230521-WA0017.xml\n",
      "Image:C:\\Users\\User\\Downloads\\RealTimeObjectDetection\\Tensorflow\\workspace\\images\\collectedimages\\I\\IMG-20230521-WA0018.jpg -> Annotation:C:/Users/User/Downloads/RealTimeObjectDetection/Tensorflow/workspace/images/collectedimages/I\\IMG-20230521-WA0018.xml\n",
      "Image:C:\\Users\\User\\Downloads\\RealTimeObjectDetection\\Tensorflow\\workspace\\images\\collectedimages\\I\\IMG-20230521-WA0019.jpg -> Annotation:C:/Users/User/Downloads/RealTimeObjectDetection/Tensorflow/workspace/images/collectedimages/I\\IMG-20230521-WA0019.xml\n",
      "Image:C:\\Users\\User\\Downloads\\RealTimeObjectDetection\\Tensorflow\\workspace\\images\\collectedimages\\I\\IMG_20151205_094007.jpg -> Annotation:C:/Users/User/Downloads/RealTimeObjectDetection/Tensorflow/workspace/images/collectedimages/I\\IMG_20151205_094007.xml\n",
      "Image:C:\\Users\\User\\Downloads\\RealTimeObjectDetection\\Tensorflow\\workspace\\images\\collectedimages\\I\\IMG_20151205_094012.jpg -> Annotation:C:/Users/User/Downloads/RealTimeObjectDetection/Tensorflow/workspace/images/collectedimages/I\\IMG_20151205_094012.xml\n",
      "Image:C:\\Users\\User\\Downloads\\RealTimeObjectDetection\\Tensorflow\\workspace\\images\\collectedimages\\I\\IMG_20151205_094020.jpg -> Annotation:C:/Users/User/Downloads/RealTimeObjectDetection/Tensorflow/workspace/images/collectedimages/I\\IMG_20151205_094020.xml\n",
      "Image:C:\\Users\\User\\Downloads\\RealTimeObjectDetection\\Tensorflow\\workspace\\images\\collectedimages\\I\\IMG_20151205_094024.jpg -> Annotation:C:/Users/User/Downloads/RealTimeObjectDetection/Tensorflow/workspace/images/collectedimages/I\\IMG_20151205_094024.xml\n",
      "Image:C:\\Users\\User\\Downloads\\RealTimeObjectDetection\\Tensorflow\\workspace\\images\\collectedimages\\I\\IMG_20230522_172045.jpg -> Annotation:C:/Users/User/Downloads/RealTimeObjectDetection/Tensorflow/workspace/images/collectedimages/I\\IMG_20230522_172045.xml\n",
      "Image:C:\\Users\\User\\Downloads\\RealTimeObjectDetection\\Tensorflow\\workspace\\images\\collectedimages\\I\\IMG_20230522_172048.jpg -> Annotation:C:/Users/User/Downloads/RealTimeObjectDetection/Tensorflow/workspace/images/collectedimages/I\\IMG_20230522_172048.xml\n",
      "Image:C:\\Users\\User\\Downloads\\RealTimeObjectDetection\\Tensorflow\\workspace\\images\\collectedimages\\I\\IMG_20230522_172053.jpg -> Annotation:C:/Users/User/Downloads/RealTimeObjectDetection/Tensorflow/workspace/images/collectedimages/I\\IMG_20230522_172053.xml\n",
      "Image:C:\\Users\\User\\Downloads\\RealTimeObjectDetection\\Tensorflow\\workspace\\images\\collectedimages\\I\\IMG_20230522_172056.jpg -> Annotation:C:/Users/User/Downloads/RealTimeObjectDetection/Tensorflow/workspace/images/collectedimages/I\\IMG_20230522_172056.xml\n",
      "Image:C:\\Users\\User\\Downloads\\RealTimeObjectDetection\\Tensorflow\\workspace\\images\\collectedimages\\I\\IMG_20230523_173633.jpg -> Annotation:C:/Users/User/Downloads/RealTimeObjectDetection/Tensorflow/workspace/images/collectedimages/I\\IMG_20230523_173633.xml\n",
      "Image:C:\\Users\\User\\Downloads\\RealTimeObjectDetection\\Tensorflow\\workspace\\images\\collectedimages\\I\\IMG_20230523_173635.jpg -> Annotation:C:/Users/User/Downloads/RealTimeObjectDetection/Tensorflow/workspace/images/collectedimages/I\\IMG_20230523_173635.xml\n",
      "Image:C:\\Users\\User\\Downloads\\RealTimeObjectDetection\\Tensorflow\\workspace\\images\\collectedimages\\I\\IMG_20230523_173637.jpg -> Annotation:C:/Users/User/Downloads/RealTimeObjectDetection/Tensorflow/workspace/images/collectedimages/I\\IMG_20230523_173637.xml\n",
      "Image:C:\\Users\\User\\Downloads\\RealTimeObjectDetection\\Tensorflow\\workspace\\images\\collectedimages\\I\\IMG_20230523_173639.jpg -> Annotation:C:/Users/User/Downloads/RealTimeObjectDetection/Tensorflow/workspace/images/collectedimages/I\\IMG_20230523_173639.xml\n",
      "Image:C:\\Users\\User\\Downloads\\RealTimeObjectDetection\\Tensorflow\\workspace\\images\\collectedimages\\I\\WhatsApp Image 2023-05-21 at 22.13.08.jpeg -> Annotation:C:/Users/User/Downloads/RealTimeObjectDetection/Tensorflow/workspace/images/collectedimages/I\\WhatsApp Image 2023-05-21 at 22.13.08.xml\n",
      "Image:C:\\Users\\User\\Downloads\\RealTimeObjectDetection\\Tensorflow\\workspace\\images\\collectedimages\\I\\WhatsApp Image 2023-05-21 at 22.13.22.jpeg -> Annotation:C:/Users/User/Downloads/RealTimeObjectDetection/Tensorflow/workspace/images/collectedimages/I\\WhatsApp Image 2023-05-21 at 22.13.22.xml\n",
      "Image:C:\\Users\\User\\Downloads\\RealTimeObjectDetection\\Tensorflow\\workspace\\images\\collectedimages\\O\\5BD631FE-E3D4-49FE-82E6-30563098554F.JPG -> Annotation:C:/Users/User/Downloads/RealTimeObjectDetection/Tensorflow/workspace/images/collectedimages/O\\5BD631FE-E3D4-49FE-82E6-30563098554F.xml\n",
      "Image:C:\\Users\\User\\Downloads\\RealTimeObjectDetection\\Tensorflow\\workspace\\images\\collectedimages\\O\\43C95D7F-8713-4CD6-AC6B-AD6569883D51.JPG -> Annotation:C:/Users/User/Downloads/RealTimeObjectDetection/Tensorflow/workspace/images/collectedimages/O\\43C95D7F-8713-4CD6-AC6B-AD6569883D51.xml\n",
      "Image:C:\\Users\\User\\Downloads\\RealTimeObjectDetection\\Tensorflow\\workspace\\images\\collectedimages\\O\\20230520_115613.jpg -> Annotation:C:/Users/User/Downloads/RealTimeObjectDetection/Tensorflow/workspace/images/collectedimages/O\\20230520_115613.xml\n",
      "Image:C:\\Users\\User\\Downloads\\RealTimeObjectDetection\\Tensorflow\\workspace\\images\\collectedimages\\O\\20230520_115617.jpg -> Annotation:C:/Users/User/Downloads/RealTimeObjectDetection/Tensorflow/workspace/images/collectedimages/O\\20230520_115617.xml\n",
      "Image:C:\\Users\\User\\Downloads\\RealTimeObjectDetection\\Tensorflow\\workspace\\images\\collectedimages\\O\\20230520_115620.jpg -> Annotation:C:/Users/User/Downloads/RealTimeObjectDetection/Tensorflow/workspace/images/collectedimages/O\\20230520_115620.xml\n",
      "Image:C:\\Users\\User\\Downloads\\RealTimeObjectDetection\\Tensorflow\\workspace\\images\\collectedimages\\O\\20230520_115629.jpg -> Annotation:C:/Users/User/Downloads/RealTimeObjectDetection/Tensorflow/workspace/images/collectedimages/O\\20230520_115629.xml\n",
      "Image:C:\\Users\\User\\Downloads\\RealTimeObjectDetection\\Tensorflow\\workspace\\images\\collectedimages\\O\\20230520_115634.jpg -> Annotation:C:/Users/User/Downloads/RealTimeObjectDetection/Tensorflow/workspace/images/collectedimages/O\\20230520_115634.xml\n",
      "Image:C:\\Users\\User\\Downloads\\RealTimeObjectDetection\\Tensorflow\\workspace\\images\\collectedimages\\O\\20230520_115640.jpg -> Annotation:C:/Users/User/Downloads/RealTimeObjectDetection/Tensorflow/workspace/images/collectedimages/O\\20230520_115640.xml\n",
      "Image:C:\\Users\\User\\Downloads\\RealTimeObjectDetection\\Tensorflow\\workspace\\images\\collectedimages\\O\\20230520_115651.jpg -> Annotation:C:/Users/User/Downloads/RealTimeObjectDetection/Tensorflow/workspace/images/collectedimages/O\\20230520_115651.xml\n",
      "Image:C:\\Users\\User\\Downloads\\RealTimeObjectDetection\\Tensorflow\\workspace\\images\\collectedimages\\O\\20230520_184014.jpg -> Annotation:C:/Users/User/Downloads/RealTimeObjectDetection/Tensorflow/workspace/images/collectedimages/O\\20230520_184014.xml\n",
      "Image:C:\\Users\\User\\Downloads\\RealTimeObjectDetection\\Tensorflow\\workspace\\images\\collectedimages\\O\\20230520_184020.jpg -> Annotation:C:/Users/User/Downloads/RealTimeObjectDetection/Tensorflow/workspace/images/collectedimages/O\\20230520_184020.xml\n",
      "Image:C:\\Users\\User\\Downloads\\RealTimeObjectDetection\\Tensorflow\\workspace\\images\\collectedimages\\O\\20230520_184026.jpg -> Annotation:C:/Users/User/Downloads/RealTimeObjectDetection/Tensorflow/workspace/images/collectedimages/O\\20230520_184026.xml\n",
      "Image:C:\\Users\\User\\Downloads\\RealTimeObjectDetection\\Tensorflow\\workspace\\images\\collectedimages\\O\\20230520_184040.jpg -> Annotation:C:/Users/User/Downloads/RealTimeObjectDetection/Tensorflow/workspace/images/collectedimages/O\\20230520_184040.xml\n",
      "Cancel creation.\n",
      "ESC press\n",
      "Cancel creation.\n",
      "ESC press\n",
      "Cancel creation.\n",
      "ESC press\n",
      "Cancel creation.\n",
      "Image:C:\\Users\\User\\Downloads\\RealTimeObjectDetection\\Tensorflow\\workspace\\images\\collectedimages\\O\\AFFE5CE0-1AFB-4DD7-95F5-24887E1BBB05.JPG -> Annotation:C:/Users/User/Downloads/RealTimeObjectDetection/Tensorflow/workspace/images/collectedimages/O\\AFFE5CE0-1AFB-4DD7-95F5-24887E1BBB05.xml\n",
      "Image:C:\\Users\\User\\Downloads\\RealTimeObjectDetection\\Tensorflow\\workspace\\images\\collectedimages\\O\\IMG_20151205_084126.jpg -> Annotation:C:/Users/User/Downloads/RealTimeObjectDetection/Tensorflow/workspace/images/collectedimages/O\\IMG_20151205_084126.xml\n",
      "Image:C:\\Users\\User\\Downloads\\RealTimeObjectDetection\\Tensorflow\\workspace\\images\\collectedimages\\O\\IMG_20151205_084133.jpg -> Annotation:C:/Users/User/Downloads/RealTimeObjectDetection/Tensorflow/workspace/images/collectedimages/O\\IMG_20151205_084133.xml\n",
      "Image:C:\\Users\\User\\Downloads\\RealTimeObjectDetection\\Tensorflow\\workspace\\images\\collectedimages\\O\\IMG_20151205_084140.jpg -> Annotation:C:/Users/User/Downloads/RealTimeObjectDetection/Tensorflow/workspace/images/collectedimages/O\\IMG_20151205_084140.xml\n",
      "Image:C:\\Users\\User\\Downloads\\RealTimeObjectDetection\\Tensorflow\\workspace\\images\\collectedimages\\O\\IMG_20151205_094052.jpg -> Annotation:C:/Users/User/Downloads/RealTimeObjectDetection/Tensorflow/workspace/images/collectedimages/O\\IMG_20151205_094052.xml\n",
      "Image:C:\\Users\\User\\Downloads\\RealTimeObjectDetection\\Tensorflow\\workspace\\images\\collectedimages\\O\\IMG_20151205_094101.jpg -> Annotation:C:/Users/User/Downloads/RealTimeObjectDetection/Tensorflow/workspace/images/collectedimages/O\\IMG_20151205_094101.xml\n",
      "Image:C:\\Users\\User\\Downloads\\RealTimeObjectDetection\\Tensorflow\\workspace\\images\\collectedimages\\O\\IMG_20151205_094112.jpg -> Annotation:C:/Users/User/Downloads/RealTimeObjectDetection/Tensorflow/workspace/images/collectedimages/O\\IMG_20151205_094112.xml\n",
      "Image:C:\\Users\\User\\Downloads\\RealTimeObjectDetection\\Tensorflow\\workspace\\images\\collectedimages\\O\\IMG_20230521_101430.jpg -> Annotation:C:/Users/User/Downloads/RealTimeObjectDetection/Tensorflow/workspace/images/collectedimages/O\\IMG_20230521_101430.xml\n",
      "Image:C:\\Users\\User\\Downloads\\RealTimeObjectDetection\\Tensorflow\\workspace\\images\\collectedimages\\O\\IMG_20230521_101440.jpg -> Annotation:C:/Users/User/Downloads/RealTimeObjectDetection/Tensorflow/workspace/images/collectedimages/O\\IMG_20230521_101440.xml\n",
      "Image:C:\\Users\\User\\Downloads\\RealTimeObjectDetection\\Tensorflow\\workspace\\images\\collectedimages\\O\\IMG_20230521_101444.jpg -> Annotation:C:/Users/User/Downloads/RealTimeObjectDetection/Tensorflow/workspace/images/collectedimages/O\\IMG_20230521_101444.xml\n",
      "Image:C:\\Users\\User\\Downloads\\RealTimeObjectDetection\\Tensorflow\\workspace\\images\\collectedimages\\O\\IMG_20230521_101448.jpg -> Annotation:C:/Users/User/Downloads/RealTimeObjectDetection/Tensorflow/workspace/images/collectedimages/O\\IMG_20230521_101448.xml\n",
      "Image:C:\\Users\\User\\Downloads\\RealTimeObjectDetection\\Tensorflow\\workspace\\images\\collectedimages\\O\\IMG_20230521_101452.jpg -> Annotation:C:/Users/User/Downloads/RealTimeObjectDetection/Tensorflow/workspace/images/collectedimages/O\\IMG_20230521_101452.xml\n",
      "Image:C:\\Users\\User\\Downloads\\RealTimeObjectDetection\\Tensorflow\\workspace\\images\\collectedimages\\O\\IMG_20230522_172157.jpg -> Annotation:C:/Users/User/Downloads/RealTimeObjectDetection/Tensorflow/workspace/images/collectedimages/O\\IMG_20230522_172157.xml\n",
      "Image:C:\\Users\\User\\Downloads\\RealTimeObjectDetection\\Tensorflow\\workspace\\images\\collectedimages\\O\\IMG_20230522_172200.jpg -> Annotation:C:/Users/User/Downloads/RealTimeObjectDetection/Tensorflow/workspace/images/collectedimages/O\\IMG_20230522_172200.xml\n",
      "Image:C:\\Users\\User\\Downloads\\RealTimeObjectDetection\\Tensorflow\\workspace\\images\\collectedimages\\O\\IMG_20230522_172203.jpg -> Annotation:C:/Users/User/Downloads/RealTimeObjectDetection/Tensorflow/workspace/images/collectedimages/O\\IMG_20230522_172203.xml\n",
      "Image:C:\\Users\\User\\Downloads\\RealTimeObjectDetection\\Tensorflow\\workspace\\images\\collectedimages\\O\\IMG_20230522_172213.jpg -> Annotation:C:/Users/User/Downloads/RealTimeObjectDetection/Tensorflow/workspace/images/collectedimages/O\\IMG_20230522_172213.xml\n",
      "Image:C:\\Users\\User\\Downloads\\RealTimeObjectDetection\\Tensorflow\\workspace\\images\\collectedimages\\O\\IMG_20230523_173657.jpg -> Annotation:C:/Users/User/Downloads/RealTimeObjectDetection/Tensorflow/workspace/images/collectedimages/O\\IMG_20230523_173657.xml\n",
      "Image:C:\\Users\\User\\Downloads\\RealTimeObjectDetection\\Tensorflow\\workspace\\images\\collectedimages\\O\\IMG_20230523_173702.jpg -> Annotation:C:/Users/User/Downloads/RealTimeObjectDetection/Tensorflow/workspace/images/collectedimages/O\\IMG_20230523_173702.xml\n",
      "Image:C:\\Users\\User\\Downloads\\RealTimeObjectDetection\\Tensorflow\\workspace\\images\\collectedimages\\O\\IMG_20230523_173704.jpg -> Annotation:C:/Users/User/Downloads/RealTimeObjectDetection/Tensorflow/workspace/images/collectedimages/O\\IMG_20230523_173704.xml\n",
      "ESC press\n",
      "Cancel creation.\n",
      "Cancel creation.\n",
      "Image:C:\\Users\\User\\Downloads\\RealTimeObjectDetection\\Tensorflow\\workspace\\images\\collectedimages\\O\\IMG_20230523_173708.jpg -> Annotation:C:/Users/User/Downloads/RealTimeObjectDetection/Tensorflow/workspace/images/collectedimages/O\\IMG_20230523_173708.xml\n",
      "Image:C:\\Users\\User\\Downloads\\RealTimeObjectDetection\\Tensorflow\\workspace\\images\\collectedimages\\O\\IMG_20230523_173710.jpg -> Annotation:C:/Users/User/Downloads/RealTimeObjectDetection/Tensorflow/workspace/images/collectedimages/O\\IMG_20230523_173710.xml\n",
      "Image:C:\\Users\\User\\Downloads\\RealTimeObjectDetection\\Tensorflow\\workspace\\images\\collectedimages\\O\\WhatsApp Image 2023-05-21 at 22.13.59.jpeg -> Annotation:C:/Users/User/Downloads/RealTimeObjectDetection/Tensorflow/workspace/images/collectedimages/O\\WhatsApp Image 2023-05-21 at 22.13.59.xml\n",
      "Image:C:\\Users\\User\\Downloads\\RealTimeObjectDetection\\Tensorflow\\workspace\\images\\collectedimages\\O\\WhatsApp Image 2023-05-21 at 22.14.23.jpeg -> Annotation:C:/Users/User/Downloads/RealTimeObjectDetection/Tensorflow/workspace/images/collectedimages/O\\WhatsApp Image 2023-05-21 at 22.14.23.xml\n",
      "Image:C:\\Users\\User\\Downloads\\RealTimeObjectDetection\\Tensorflow\\workspace\\images\\collectedimages\\U\\20230516_185218.jpg -> Annotation:C:/Users/User/Downloads/RealTimeObjectDetection/Tensorflow/workspace/images/collectedimages/U\\20230516_185218.xml\n",
      "Image:C:\\Users\\User\\Downloads\\RealTimeObjectDetection\\Tensorflow\\workspace\\images\\collectedimages\\U\\20230520_115444.jpg -> Annotation:C:/Users/User/Downloads/RealTimeObjectDetection/Tensorflow/workspace/images/collectedimages/U\\20230520_115444.xml\n",
      "Image:C:\\Users\\User\\Downloads\\RealTimeObjectDetection\\Tensorflow\\workspace\\images\\collectedimages\\U\\20230520_115501.jpg -> Annotation:C:/Users/User/Downloads/RealTimeObjectDetection/Tensorflow/workspace/images/collectedimages/U\\20230520_115501.xml\n",
      "Image:C:\\Users\\User\\Downloads\\RealTimeObjectDetection\\Tensorflow\\workspace\\images\\collectedimages\\U\\20230520_123744.jpg -> Annotation:C:/Users/User/Downloads/RealTimeObjectDetection/Tensorflow/workspace/images/collectedimages/U\\20230520_123744.xml\n",
      "Image:C:\\Users\\User\\Downloads\\RealTimeObjectDetection\\Tensorflow\\workspace\\images\\collectedimages\\U\\20230520_123758.jpg -> Annotation:C:/Users/User/Downloads/RealTimeObjectDetection/Tensorflow/workspace/images/collectedimages/U\\20230520_123758.xml\n",
      "Image:C:\\Users\\User\\Downloads\\RealTimeObjectDetection\\Tensorflow\\workspace\\images\\collectedimages\\U\\20230520_123906.jpg -> Annotation:C:/Users/User/Downloads/RealTimeObjectDetection/Tensorflow/workspace/images/collectedimages/U\\20230520_123906.xml\n",
      "Image:C:\\Users\\User\\Downloads\\RealTimeObjectDetection\\Tensorflow\\workspace\\images\\collectedimages\\U\\20230520_123910.jpg -> Annotation:C:/Users/User/Downloads/RealTimeObjectDetection/Tensorflow/workspace/images/collectedimages/U\\20230520_123910.xml\n",
      "Image:C:\\Users\\User\\Downloads\\RealTimeObjectDetection\\Tensorflow\\workspace\\images\\collectedimages\\U\\20230520_123941.jpg -> Annotation:C:/Users/User/Downloads/RealTimeObjectDetection/Tensorflow/workspace/images/collectedimages/U\\20230520_123941.xml\n",
      "Image:C:\\Users\\User\\Downloads\\RealTimeObjectDetection\\Tensorflow\\workspace\\images\\collectedimages\\U\\20230520_183823.jpg -> Annotation:C:/Users/User/Downloads/RealTimeObjectDetection/Tensorflow/workspace/images/collectedimages/U\\20230520_183823.xml\n",
      "Image:C:\\Users\\User\\Downloads\\RealTimeObjectDetection\\Tensorflow\\workspace\\images\\collectedimages\\U\\20230520_183832.jpg -> Annotation:C:/Users/User/Downloads/RealTimeObjectDetection/Tensorflow/workspace/images/collectedimages/U\\20230520_183832.xml\n",
      "Image:C:\\Users\\User\\Downloads\\RealTimeObjectDetection\\Tensorflow\\workspace\\images\\collectedimages\\U\\20230520_183838.jpg -> Annotation:C:/Users/User/Downloads/RealTimeObjectDetection/Tensorflow/workspace/images/collectedimages/U\\20230520_183838.xml\n",
      "Image:C:\\Users\\User\\Downloads\\RealTimeObjectDetection\\Tensorflow\\workspace\\images\\collectedimages\\U\\20230520_183850.jpg -> Annotation:C:/Users/User/Downloads/RealTimeObjectDetection/Tensorflow/workspace/images/collectedimages/U\\20230520_183850.xml\n",
      "Image:C:\\Users\\User\\Downloads\\RealTimeObjectDetection\\Tensorflow\\workspace\\images\\collectedimages\\U\\A2E665FD-A5B2-4182-B53D-CB630F9E99F6.JPG -> Annotation:C:/Users/User/Downloads/RealTimeObjectDetection/Tensorflow/workspace/images/collectedimages/U\\A2E665FD-A5B2-4182-B53D-CB630F9E99F6.xml\n",
      "Image:C:\\Users\\User\\Downloads\\RealTimeObjectDetection\\Tensorflow\\workspace\\images\\collectedimages\\U\\AD8AA220-6133-45ED-9DE7-2A3F989FB668.JPG -> Annotation:C:/Users/User/Downloads/RealTimeObjectDetection/Tensorflow/workspace/images/collectedimages/U\\AD8AA220-6133-45ED-9DE7-2A3F989FB668.xml\n",
      "Image:C:\\Users\\User\\Downloads\\RealTimeObjectDetection\\Tensorflow\\workspace\\images\\collectedimages\\U\\IMG_20151205_084230.jpg -> Annotation:C:/Users/User/Downloads/RealTimeObjectDetection/Tensorflow/workspace/images/collectedimages/U\\IMG_20151205_084230.xml\n",
      "Image:C:\\Users\\User\\Downloads\\RealTimeObjectDetection\\Tensorflow\\workspace\\images\\collectedimages\\U\\IMG_20151205_084238.jpg -> Annotation:C:/Users/User/Downloads/RealTimeObjectDetection/Tensorflow/workspace/images/collectedimages/U\\IMG_20151205_084238.xml\n",
      "Image:C:\\Users\\User\\Downloads\\RealTimeObjectDetection\\Tensorflow\\workspace\\images\\collectedimages\\U\\IMG_20151205_084247.jpg -> Annotation:C:/Users/User/Downloads/RealTimeObjectDetection/Tensorflow/workspace/images/collectedimages/U\\IMG_20151205_084247.xml\n",
      "Image:C:\\Users\\User\\Downloads\\RealTimeObjectDetection\\Tensorflow\\workspace\\images\\collectedimages\\U\\IMG_20151205_094120.jpg -> Annotation:C:/Users/User/Downloads/RealTimeObjectDetection/Tensorflow/workspace/images/collectedimages/U\\IMG_20151205_094120.xml\n",
      "Image:C:\\Users\\User\\Downloads\\RealTimeObjectDetection\\Tensorflow\\workspace\\images\\collectedimages\\U\\IMG_20151205_094135.jpg -> Annotation:C:/Users/User/Downloads/RealTimeObjectDetection/Tensorflow/workspace/images/collectedimages/U\\IMG_20151205_094135.xml\n",
      "Image:C:\\Users\\User\\Downloads\\RealTimeObjectDetection\\Tensorflow\\workspace\\images\\collectedimages\\U\\IMG_20151205_094140.jpg -> Annotation:C:/Users/User/Downloads/RealTimeObjectDetection/Tensorflow/workspace/images/collectedimages/U\\IMG_20151205_094140.xml\n",
      "Image:C:\\Users\\User\\Downloads\\RealTimeObjectDetection\\Tensorflow\\workspace\\images\\collectedimages\\U\\IMG_20151205_094145.jpg -> Annotation:C:/Users/User/Downloads/RealTimeObjectDetection/Tensorflow/workspace/images/collectedimages/U\\IMG_20151205_094145.xml\n",
      "Image:C:\\Users\\User\\Downloads\\RealTimeObjectDetection\\Tensorflow\\workspace\\images\\collectedimages\\U\\IMG_20230521_101521.jpg -> Annotation:C:/Users/User/Downloads/RealTimeObjectDetection/Tensorflow/workspace/images/collectedimages/U\\IMG_20230521_101521.xml\n",
      "Image:C:\\Users\\User\\Downloads\\RealTimeObjectDetection\\Tensorflow\\workspace\\images\\collectedimages\\U\\IMG_20230521_101528.jpg -> Annotation:C:/Users/User/Downloads/RealTimeObjectDetection/Tensorflow/workspace/images/collectedimages/U\\IMG_20230521_101528.xml\n",
      "Image:C:\\Users\\User\\Downloads\\RealTimeObjectDetection\\Tensorflow\\workspace\\images\\collectedimages\\U\\IMG_20230521_101531.jpg -> Annotation:C:/Users/User/Downloads/RealTimeObjectDetection/Tensorflow/workspace/images/collectedimages/U\\IMG_20230521_101531.xml\n",
      "Image:C:\\Users\\User\\Downloads\\RealTimeObjectDetection\\Tensorflow\\workspace\\images\\collectedimages\\U\\IMG_20230521_101536.jpg -> Annotation:C:/Users/User/Downloads/RealTimeObjectDetection/Tensorflow/workspace/images/collectedimages/U\\IMG_20230521_101536.xml\n",
      "Image:C:\\Users\\User\\Downloads\\RealTimeObjectDetection\\Tensorflow\\workspace\\images\\collectedimages\\U\\IMG_20230521_101538.jpg -> Annotation:C:/Users/User/Downloads/RealTimeObjectDetection/Tensorflow/workspace/images/collectedimages/U\\IMG_20230521_101538.xml\n",
      "Image:C:\\Users\\User\\Downloads\\RealTimeObjectDetection\\Tensorflow\\workspace\\images\\collectedimages\\U\\IMG_20230522_172524.jpg -> Annotation:C:/Users/User/Downloads/RealTimeObjectDetection/Tensorflow/workspace/images/collectedimages/U\\IMG_20230522_172524.xml\n",
      "Image:C:\\Users\\User\\Downloads\\RealTimeObjectDetection\\Tensorflow\\workspace\\images\\collectedimages\\U\\IMG_20230522_172527.jpg -> Annotation:C:/Users/User/Downloads/RealTimeObjectDetection/Tensorflow/workspace/images/collectedimages/U\\IMG_20230522_172527.xml\n",
      "Image:C:\\Users\\User\\Downloads\\RealTimeObjectDetection\\Tensorflow\\workspace\\images\\collectedimages\\U\\IMG_20230522_172530.jpg -> Annotation:C:/Users/User/Downloads/RealTimeObjectDetection/Tensorflow/workspace/images/collectedimages/U\\IMG_20230522_172530.xml\n",
      "Image:C:\\Users\\User\\Downloads\\RealTimeObjectDetection\\Tensorflow\\workspace\\images\\collectedimages\\U\\IMG_20230522_172532.jpg -> Annotation:C:/Users/User/Downloads/RealTimeObjectDetection/Tensorflow/workspace/images/collectedimages/U\\IMG_20230522_172532.xml\n",
      "Image:C:\\Users\\User\\Downloads\\RealTimeObjectDetection\\Tensorflow\\workspace\\images\\collectedimages\\U\\IMG_20230523_173723.jpg -> Annotation:C:/Users/User/Downloads/RealTimeObjectDetection/Tensorflow/workspace/images/collectedimages/U\\IMG_20230523_173723.xml\n",
      "Image:C:\\Users\\User\\Downloads\\RealTimeObjectDetection\\Tensorflow\\workspace\\images\\collectedimages\\U\\IMG_20230523_173727.jpg -> Annotation:C:/Users/User/Downloads/RealTimeObjectDetection/Tensorflow/workspace/images/collectedimages/U\\IMG_20230523_173727.xml\n",
      "Image:C:\\Users\\User\\Downloads\\RealTimeObjectDetection\\Tensorflow\\workspace\\images\\collectedimages\\U\\IMG_20230523_173730.jpg -> Annotation:C:/Users/User/Downloads/RealTimeObjectDetection/Tensorflow/workspace/images/collectedimages/U\\IMG_20230523_173730.xml\n",
      "Image:C:\\Users\\User\\Downloads\\RealTimeObjectDetection\\Tensorflow\\workspace\\images\\collectedimages\\U\\IMG_20230523_173732.jpg -> Annotation:C:/Users/User/Downloads/RealTimeObjectDetection/Tensorflow/workspace/images/collectedimages/U\\IMG_20230523_173732.xml\n",
      "Image:C:\\Users\\User\\Downloads\\RealTimeObjectDetection\\Tensorflow\\workspace\\images\\collectedimages\\U\\WhatsApp Image 2023-05-21 at 22.14.44.jpeg -> Annotation:C:/Users/User/Downloads/RealTimeObjectDetection/Tensorflow/workspace/images/collectedimages/U\\WhatsApp Image 2023-05-21 at 22.14.44.xml\n",
      "Image:C:\\Users\\User\\Downloads\\RealTimeObjectDetection\\Tensorflow\\workspace\\images\\collectedimages\\U\\WhatsApp Image 2023-05-21 at 22.15.00.jpeg -> Annotation:C:/Users/User/Downloads/RealTimeObjectDetection/Tensorflow/workspace/images/collectedimages/U\\WhatsApp Image 2023-05-21 at 22.15.00.xml\n"
     ]
    }
   ],
   "source": [
    "!cd {LABELIMG_PATH} && python labelImg.py"
   ]
  },
  {
   "cell_type": "code",
   "execution_count": 23,
   "id": "122e4418",
   "metadata": {},
   "outputs": [],
   "source": [
    "TRAIN_PATH = os.path.join('Tensorflow', 'workspace', 'images', 'train')\n",
    "TEST_PATH = os.path.join('Tensorflow', 'workspace', 'images', 'test')\n",
    "ARCHIVE_PATH = os.path.join('Tensorflow', 'workspace', 'images', 'archive.tar.gz')"
   ]
  },
  {
   "cell_type": "code",
   "execution_count": null,
   "id": "7b7d4ba0",
   "metadata": {},
   "outputs": [],
   "source": [
    " !tar -czf {ARCHIVE_PATH} {TRAIN_PATH} {TEST_PATH}"
   ]
  }
 ],
 "metadata": {
  "kernelspec": {
   "display_name": "Python 3",
   "language": "python",
   "name": "python3"
  },
  "language_info": {
   "codemirror_mode": {
    "name": "ipython",
    "version": 3
   },
   "file_extension": ".py",
   "mimetype": "text/x-python",
   "name": "python",
   "nbconvert_exporter": "python",
   "pygments_lexer": "ipython3",
   "version": "3.9.0"
  }
 },
 "nbformat": 4,
 "nbformat_minor": 5
}
